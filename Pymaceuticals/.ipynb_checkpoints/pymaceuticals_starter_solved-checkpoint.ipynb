{
 "cells": [
  {
   "cell_type": "markdown",
   "metadata": {},
   "source": [
    "## Observations and Insights"
   ]
  },
  {
   "cell_type": "markdown",
   "metadata": {},
   "source": []
  },
  {
   "cell_type": "code",
   "execution_count": 1,
   "metadata": {},
   "outputs": [],
   "source": [
    "#Top-level summary of the study results\n",
    "#Inferences:\n",
    "#1. Number of male and female mice used for conducting study is similar and shows a good balance in study by gender.\n",
    "#2. Other than Inficane (which has only one outlier) no other top regimen has any outliers.\n",
    "#3. For the top regimen Tumor Volume has either decreased or stayed same over time points.\n",
    "#4. The weight of mouse and tumor volume has positive correlation as shown in last plot."
   ]
  },
  {
   "cell_type": "markdown",
   "metadata": {},
   "source": [
    "## Dependencies and starter code"
   ]
  },
  {
   "cell_type": "code",
   "execution_count": 2,
   "metadata": {},
   "outputs": [
    {
     "data": {
      "text/html": [
       "<div>\n",
       "<style scoped>\n",
       "    .dataframe tbody tr th:only-of-type {\n",
       "        vertical-align: middle;\n",
       "    }\n",
       "\n",
       "    .dataframe tbody tr th {\n",
       "        vertical-align: top;\n",
       "    }\n",
       "\n",
       "    .dataframe thead th {\n",
       "        text-align: right;\n",
       "    }\n",
       "</style>\n",
       "<table border=\"1\" class=\"dataframe\">\n",
       "  <thead>\n",
       "    <tr style=\"text-align: right;\">\n",
       "      <th></th>\n",
       "      <th>Mouse ID</th>\n",
       "      <th>Drug Regimen</th>\n",
       "      <th>Sex</th>\n",
       "      <th>Age_months</th>\n",
       "      <th>Weight (g)</th>\n",
       "      <th>Timepoint</th>\n",
       "      <th>Tumor Volume (mm3)</th>\n",
       "      <th>Metastatic Sites</th>\n",
       "    </tr>\n",
       "  </thead>\n",
       "  <tbody>\n",
       "    <tr>\n",
       "      <td>10</td>\n",
       "      <td>s185</td>\n",
       "      <td>Capomulin</td>\n",
       "      <td>Female</td>\n",
       "      <td>3</td>\n",
       "      <td>17</td>\n",
       "      <td>0</td>\n",
       "      <td>45.000000</td>\n",
       "      <td>0</td>\n",
       "    </tr>\n",
       "    <tr>\n",
       "      <td>11</td>\n",
       "      <td>s185</td>\n",
       "      <td>Capomulin</td>\n",
       "      <td>Female</td>\n",
       "      <td>3</td>\n",
       "      <td>17</td>\n",
       "      <td>5</td>\n",
       "      <td>43.878496</td>\n",
       "      <td>0</td>\n",
       "    </tr>\n",
       "    <tr>\n",
       "      <td>12</td>\n",
       "      <td>s185</td>\n",
       "      <td>Capomulin</td>\n",
       "      <td>Female</td>\n",
       "      <td>3</td>\n",
       "      <td>17</td>\n",
       "      <td>10</td>\n",
       "      <td>37.614948</td>\n",
       "      <td>0</td>\n",
       "    </tr>\n",
       "    <tr>\n",
       "      <td>13</td>\n",
       "      <td>s185</td>\n",
       "      <td>Capomulin</td>\n",
       "      <td>Female</td>\n",
       "      <td>3</td>\n",
       "      <td>17</td>\n",
       "      <td>15</td>\n",
       "      <td>38.177232</td>\n",
       "      <td>0</td>\n",
       "    </tr>\n",
       "    <tr>\n",
       "      <td>14</td>\n",
       "      <td>s185</td>\n",
       "      <td>Capomulin</td>\n",
       "      <td>Female</td>\n",
       "      <td>3</td>\n",
       "      <td>17</td>\n",
       "      <td>20</td>\n",
       "      <td>36.866876</td>\n",
       "      <td>0</td>\n",
       "    </tr>\n",
       "    <tr>\n",
       "      <td>...</td>\n",
       "      <td>...</td>\n",
       "      <td>...</td>\n",
       "      <td>...</td>\n",
       "      <td>...</td>\n",
       "      <td>...</td>\n",
       "      <td>...</td>\n",
       "      <td>...</td>\n",
       "      <td>...</td>\n",
       "    </tr>\n",
       "    <tr>\n",
       "      <td>440</td>\n",
       "      <td>i557</td>\n",
       "      <td>Capomulin</td>\n",
       "      <td>Female</td>\n",
       "      <td>1</td>\n",
       "      <td>24</td>\n",
       "      <td>45</td>\n",
       "      <td>47.685963</td>\n",
       "      <td>1</td>\n",
       "    </tr>\n",
       "    <tr>\n",
       "      <td>1452</td>\n",
       "      <td>r157</td>\n",
       "      <td>Capomulin</td>\n",
       "      <td>Male</td>\n",
       "      <td>22</td>\n",
       "      <td>25</td>\n",
       "      <td>0</td>\n",
       "      <td>45.000000</td>\n",
       "      <td>0</td>\n",
       "    </tr>\n",
       "    <tr>\n",
       "      <td>1453</td>\n",
       "      <td>r157</td>\n",
       "      <td>Capomulin</td>\n",
       "      <td>Male</td>\n",
       "      <td>22</td>\n",
       "      <td>25</td>\n",
       "      <td>5</td>\n",
       "      <td>45.597064</td>\n",
       "      <td>0</td>\n",
       "    </tr>\n",
       "    <tr>\n",
       "      <td>1454</td>\n",
       "      <td>r157</td>\n",
       "      <td>Capomulin</td>\n",
       "      <td>Male</td>\n",
       "      <td>22</td>\n",
       "      <td>25</td>\n",
       "      <td>10</td>\n",
       "      <td>46.059608</td>\n",
       "      <td>0</td>\n",
       "    </tr>\n",
       "    <tr>\n",
       "      <td>1455</td>\n",
       "      <td>r157</td>\n",
       "      <td>Capomulin</td>\n",
       "      <td>Male</td>\n",
       "      <td>22</td>\n",
       "      <td>25</td>\n",
       "      <td>15</td>\n",
       "      <td>46.539206</td>\n",
       "      <td>0</td>\n",
       "    </tr>\n",
       "  </tbody>\n",
       "</table>\n",
       "<p>230 rows × 8 columns</p>\n",
       "</div>"
      ],
      "text/plain": [
       "     Mouse ID Drug Regimen     Sex  Age_months  Weight (g)  Timepoint  \\\n",
       "10       s185    Capomulin  Female           3          17          0   \n",
       "11       s185    Capomulin  Female           3          17          5   \n",
       "12       s185    Capomulin  Female           3          17         10   \n",
       "13       s185    Capomulin  Female           3          17         15   \n",
       "14       s185    Capomulin  Female           3          17         20   \n",
       "...       ...          ...     ...         ...         ...        ...   \n",
       "440      i557    Capomulin  Female           1          24         45   \n",
       "1452     r157    Capomulin    Male          22          25          0   \n",
       "1453     r157    Capomulin    Male          22          25          5   \n",
       "1454     r157    Capomulin    Male          22          25         10   \n",
       "1455     r157    Capomulin    Male          22          25         15   \n",
       "\n",
       "      Tumor Volume (mm3)  Metastatic Sites  \n",
       "10             45.000000                 0  \n",
       "11             43.878496                 0  \n",
       "12             37.614948                 0  \n",
       "13             38.177232                 0  \n",
       "14             36.866876                 0  \n",
       "...                  ...               ...  \n",
       "440            47.685963                 1  \n",
       "1452           45.000000                 0  \n",
       "1453           45.597064                 0  \n",
       "1454           46.059608                 0  \n",
       "1455           46.539206                 0  \n",
       "\n",
       "[230 rows x 8 columns]"
      ]
     },
     "execution_count": 2,
     "metadata": {},
     "output_type": "execute_result"
    }
   ],
   "source": [
    "# Dependencies and Setup\n",
    "import matplotlib.pyplot as plt\n",
    "import pandas as pd\n",
    "import scipy.stats as st\n",
    "\n",
    "# Study data files\n",
    "mouse_metadata = \"data/Mouse_metadata.csv\"\n",
    "study_results = \"data/Study_results.csv\"\n",
    "\n",
    "# Read the mouse data and the study results\n",
    "mouse_metadata = pd.read_csv(mouse_metadata)\n",
    "study_results = pd.read_csv(study_results)\n",
    "\n",
    "# Combine the data into a single dataset\n",
    "combine_data = mouse_metadata.merge(study_results, on=\"Mouse ID\", how='outer')\n",
    "combine_data[(combine_data[\"Drug Regimen\"] == \"Capomulin\")]"
   ]
  },
  {
   "cell_type": "markdown",
   "metadata": {},
   "source": [
    "## Summary statistics"
   ]
  },
  {
   "cell_type": "code",
   "execution_count": 3,
   "metadata": {},
   "outputs": [
    {
     "data": {
      "text/html": [
       "<div>\n",
       "<style scoped>\n",
       "    .dataframe tbody tr th:only-of-type {\n",
       "        vertical-align: middle;\n",
       "    }\n",
       "\n",
       "    .dataframe tbody tr th {\n",
       "        vertical-align: top;\n",
       "    }\n",
       "\n",
       "    .dataframe thead th {\n",
       "        text-align: right;\n",
       "    }\n",
       "</style>\n",
       "<table border=\"1\" class=\"dataframe\">\n",
       "  <thead>\n",
       "    <tr style=\"text-align: right;\">\n",
       "      <th></th>\n",
       "      <th>Volume Mean</th>\n",
       "      <th>Volume Median</th>\n",
       "      <th>Volume Variance</th>\n",
       "      <th>Volume Std Dev</th>\n",
       "      <th>Volume SEM</th>\n",
       "    </tr>\n",
       "    <tr>\n",
       "      <th>Drug Regimen</th>\n",
       "      <th></th>\n",
       "      <th></th>\n",
       "      <th></th>\n",
       "      <th></th>\n",
       "      <th></th>\n",
       "    </tr>\n",
       "  </thead>\n",
       "  <tbody>\n",
       "    <tr>\n",
       "      <td>Capomulin</td>\n",
       "      <td>40.675741</td>\n",
       "      <td>41.557809</td>\n",
       "      <td>24.947764</td>\n",
       "      <td>4.994774</td>\n",
       "      <td>0.329346</td>\n",
       "    </tr>\n",
       "    <tr>\n",
       "      <td>Ceftamin</td>\n",
       "      <td>52.591172</td>\n",
       "      <td>51.776157</td>\n",
       "      <td>39.290177</td>\n",
       "      <td>6.268188</td>\n",
       "      <td>0.469821</td>\n",
       "    </tr>\n",
       "    <tr>\n",
       "      <td>Infubinol</td>\n",
       "      <td>52.884795</td>\n",
       "      <td>51.820584</td>\n",
       "      <td>43.128684</td>\n",
       "      <td>6.567243</td>\n",
       "      <td>0.492236</td>\n",
       "    </tr>\n",
       "    <tr>\n",
       "      <td>Ketapril</td>\n",
       "      <td>55.235638</td>\n",
       "      <td>53.698743</td>\n",
       "      <td>68.553577</td>\n",
       "      <td>8.279709</td>\n",
       "      <td>0.603860</td>\n",
       "    </tr>\n",
       "    <tr>\n",
       "      <td>Naftisol</td>\n",
       "      <td>54.331565</td>\n",
       "      <td>52.509285</td>\n",
       "      <td>66.173479</td>\n",
       "      <td>8.134708</td>\n",
       "      <td>0.596466</td>\n",
       "    </tr>\n",
       "    <tr>\n",
       "      <td>Placebo</td>\n",
       "      <td>54.033581</td>\n",
       "      <td>52.288934</td>\n",
       "      <td>61.168083</td>\n",
       "      <td>7.821003</td>\n",
       "      <td>0.581331</td>\n",
       "    </tr>\n",
       "    <tr>\n",
       "      <td>Propriva</td>\n",
       "      <td>52.322552</td>\n",
       "      <td>50.854632</td>\n",
       "      <td>42.351070</td>\n",
       "      <td>6.507770</td>\n",
       "      <td>0.512884</td>\n",
       "    </tr>\n",
       "    <tr>\n",
       "      <td>Ramicane</td>\n",
       "      <td>40.216745</td>\n",
       "      <td>40.673236</td>\n",
       "      <td>23.486704</td>\n",
       "      <td>4.846308</td>\n",
       "      <td>0.320955</td>\n",
       "    </tr>\n",
       "    <tr>\n",
       "      <td>Stelasyn</td>\n",
       "      <td>54.233149</td>\n",
       "      <td>52.431737</td>\n",
       "      <td>59.450562</td>\n",
       "      <td>7.710419</td>\n",
       "      <td>0.573111</td>\n",
       "    </tr>\n",
       "    <tr>\n",
       "      <td>Zoniferol</td>\n",
       "      <td>53.236507</td>\n",
       "      <td>51.818479</td>\n",
       "      <td>48.533355</td>\n",
       "      <td>6.966589</td>\n",
       "      <td>0.516398</td>\n",
       "    </tr>\n",
       "  </tbody>\n",
       "</table>\n",
       "</div>"
      ],
      "text/plain": [
       "              Volume Mean  Volume Median  Volume Variance  Volume Std Dev  \\\n",
       "Drug Regimen                                                                \n",
       "Capomulin       40.675741      41.557809        24.947764        4.994774   \n",
       "Ceftamin        52.591172      51.776157        39.290177        6.268188   \n",
       "Infubinol       52.884795      51.820584        43.128684        6.567243   \n",
       "Ketapril        55.235638      53.698743        68.553577        8.279709   \n",
       "Naftisol        54.331565      52.509285        66.173479        8.134708   \n",
       "Placebo         54.033581      52.288934        61.168083        7.821003   \n",
       "Propriva        52.322552      50.854632        42.351070        6.507770   \n",
       "Ramicane        40.216745      40.673236        23.486704        4.846308   \n",
       "Stelasyn        54.233149      52.431737        59.450562        7.710419   \n",
       "Zoniferol       53.236507      51.818479        48.533355        6.966589   \n",
       "\n",
       "              Volume SEM  \n",
       "Drug Regimen              \n",
       "Capomulin       0.329346  \n",
       "Ceftamin        0.469821  \n",
       "Infubinol       0.492236  \n",
       "Ketapril        0.603860  \n",
       "Naftisol        0.596466  \n",
       "Placebo         0.581331  \n",
       "Propriva        0.512884  \n",
       "Ramicane        0.320955  \n",
       "Stelasyn        0.573111  \n",
       "Zoniferol       0.516398  "
      ]
     },
     "execution_count": 3,
     "metadata": {},
     "output_type": "execute_result"
    }
   ],
   "source": [
    "# Generate a summary statistics table of mean, median, variance, standard deviation, and SEM of the tumor volume for each regimen\n",
    "drug_grp = combine_data.groupby(\"Drug Regimen\")\n",
    "vol_mean = drug_grp['Tumor Volume (mm3)'].mean\n",
    "vol_median = drug_grp['Tumor Volume (mm3)'].median\n",
    "vol_var = drug_grp['Tumor Volume (mm3)'].var\n",
    "vol_std = drug_grp['Tumor Volume (mm3)'].std\n",
    "vol_sem = drug_grp['Tumor Volume (mm3)'].sem\n",
    "summary_data = pd.DataFrame({\"Volume Mean\": vol_mean(),\n",
    "                             \"Volume Median\": vol_median(),\n",
    "                             \"Volume Variance\": vol_var(),\n",
    "                             \"Volume Std Dev\": vol_std(),\n",
    "                             \"Volume SEM\": vol_sem()})\n",
    "summary_data"
   ]
  },
  {
   "cell_type": "markdown",
   "metadata": {},
   "source": [
    "## Bar plots"
   ]
  },
  {
   "cell_type": "code",
   "execution_count": 4,
   "metadata": {
    "scrolled": true
   },
   "outputs": [
    {
     "data": {
      "image/png": "[encoded data removed]",
      "text/plain": [
       "<Figure size 504x288 with 1 Axes>"
      ]
     },
     "metadata": {
      "needs_background": "light"
     },
     "output_type": "display_data"
    }
   ],
   "source": [
    "# Generate a bar plot showing number of data points for each treatment regimen using pandas\n",
    "data_point = pd.DataFrame(combine_data['Drug Regimen'].value_counts())\n",
    "data_point.plot(kind='bar', color=\"blue\", legend=False, figsize = (7,4), title=\"Number of data points for each treatment regimen\" )\n",
    "plt.show()"
   ]
  },
  {
   "cell_type": "code",
   "execution_count": 5,
   "metadata": {},
   "outputs": [
    {
     "data": {
      "image/png": "[encoded data removed]",
      "text/plain": [
       "<Figure size 432x288 with 1 Axes>"
      ]
     },
     "metadata": {
      "needs_background": "light"
     },
     "output_type": "display_data"
    }
   ],
   "source": [
    "# Generate a bar plot showing number of data points for each treatment regimen using pyplot\n",
    "plt.bar(data_point.index, data_point['Drug Regimen'], width =0.5, color='blue')\n",
    "plt.xticks(rotation='vertical')\n",
    "plt.title(\"Number of data points for each treatment regimen\")\n",
    "plt.tight_layout()"
   ]
  },
  {
   "cell_type": "markdown",
   "metadata": {},
   "source": [
    "## Pie plots"
   ]
  },
  {
   "cell_type": "code",
   "execution_count": 6,
   "metadata": {},
   "outputs": [
    {
     "data": {
      "image/png": "[encoded data removed]",
      "text/plain": [
       "<Figure size 288x288 with 1 Axes>"
      ]
     },
     "metadata": {},
     "output_type": "display_data"
    }
   ],
   "source": [
    "# Generate a pie plot showing the distribution of female versus male mice using pandas\n",
    "sex_count = pd.DataFrame(combine_data['Sex'].value_counts())\n",
    "#sex_count.plot(kind='pie', color=\"blue\", legend=False )\n",
    "sex_count.plot(kind='pie', y='Sex', autopct='%1.1f%%', legend=False, label=\"\", figsize=(4, 4), title=\"Distribution of Female vs Male mice\")\n",
    "plt.show()"
   ]
  },
  {
   "cell_type": "code",
   "execution_count": 7,
   "metadata": {},
   "outputs": [
    {
     "data": {
      "image/png": "[encoded data removed]",
      "text/plain": [
       "<Figure size 432x288 with 1 Axes>"
      ]
     },
     "metadata": {},
     "output_type": "display_data"
    }
   ],
   "source": [
    "# Generate a pie plot showing the distribution of female versus male mice using pyplot\n",
    "plt.pie(sex_count['Sex'], labels=sex_count.index, autopct=\"%1.1f%%\")\n",
    "plt.title(\"Distribution of Female vs Male mice\")\n",
    "plt.show()"
   ]
  },
  {
   "cell_type": "markdown",
   "metadata": {},
   "source": [
    "## Quartiles, outliers and boxplots"
   ]
  },
  {
   "cell_type": "code",
   "execution_count": 8,
   "metadata": {},
   "outputs": [
    {
     "name": "stdout",
     "output_type": "stream",
     "text": [
      "Capomulin outlier: Series([], Name: Tumor Volume (mm3), dtype: float64)\n",
      "Ramicane outlier: Series([], Name: Tumor Volume (mm3), dtype: float64)\n",
      "Inficane outlier: 31    36.321346\n",
      "Name: Tumor Volume (mm3), dtype: float64\n",
      "Ceficane outlier: Series([], Name: Tumor Volume (mm3), dtype: float64)\n"
     ]
    }
   ],
   "source": [
    "# Calculate the final tumor volume of each mouse across four of the most promising treatment regimens. Calculate the IQR and quantitatively determine if there are any potential outliers.\n",
    "final_vol = combine_data.groupby(\"Mouse ID\").max()\n",
    "final_vol = final_vol.reset_index()\n",
    "final_vol_merge = final_vol[[\"Mouse ID\", \"Timepoint\"]].merge(combine_data, on=[\"Mouse ID\",\"Timepoint\"], how='inner')\n",
    "Capomulin_vol = final_vol_merge.loc[final_vol_merge[\"Drug Regimen\"] == \"Capomulin\"][\"Tumor Volume (mm3)\"]\n",
    "Ramicane_vol = final_vol_merge.loc[final_vol_merge[\"Drug Regimen\"] == \"Ramicane\"][\"Tumor Volume (mm3)\"]\n",
    "Infubinol_vol = final_vol_merge.loc[final_vol_merge[\"Drug Regimen\"] == \"Infubinol\"][\"Tumor Volume (mm3)\"]\n",
    "Ceftamin_vol = final_vol_merge.loc[final_vol_merge[\"Drug Regimen\"] == \"Ceftamin\"][\"Tumor Volume (mm3)\"]\n",
    "\n",
    "#IQR and outliers for each regimen\n",
    "\n",
    "#Capomulin\n",
    "cap_quartiles = Capomulin_vol.quantile([.25,.5,.75])\n",
    "cap_lowerq = cap_quartiles[0.25]\n",
    "cap_upperq = cap_quartiles[0.75]\n",
    "cap_iqr = cap_upperq-cap_lowerq\n",
    "cap_lower_bound = cap_lowerq - (1.5*cap_iqr)\n",
    "cap_upper_bound = cap_upperq + (1.5*cap_iqr)\n",
    "print(f\"Capomulin outlier: {Capomulin_vol.loc[(Capomulin_vol <cap_lower_bound) | (Capomulin_vol > cap_upper_bound)]}\")\n",
    "\n",
    "#Ramicane\n",
    "ram_quartiles = Ramicane_vol.quantile([.25,.5,.75])\n",
    "ram_lowerq = ram_quartiles[0.25]\n",
    "ram_upperq = ram_quartiles[0.75]\n",
    "ram_iqr = ram_upperq-ram_lowerq\n",
    "ram_lower_bound = ram_lowerq - (1.5*ram_iqr)\n",
    "ram_upper_bound = ram_upperq + (1.5*ram_iqr)\n",
    "print(f\"Ramicane outlier: {Ramicane_vol.loc[(Ramicane_vol <ram_lower_bound) | (Ramicane_vol > ram_upper_bound)]}\")\n",
    "\n",
    "#Infubinol\n",
    "inf_quartiles = Infubinol_vol.quantile([.25,.5,.75])\n",
    "inf_lowerq = inf_quartiles[0.25]\n",
    "inf_upperq = inf_quartiles[0.75]\n",
    "inf_iqr = inf_upperq-inf_lowerq\n",
    "inf_lower_bound = inf_lowerq - (1.5*inf_iqr)\n",
    "inf_upper_bound = inf_upperq + (1.5*inf_iqr)\n",
    "print(f\"Inficane outlier: {Infubinol_vol.loc[(Infubinol_vol <inf_lower_bound) | (Infubinol_vol > inf_upper_bound)]}\")\n",
    "\n",
    "#Ceftamin\n",
    "cef_quartiles = Ceftamin_vol.quantile([.25,.5,.75])\n",
    "cef_lowerq = cef_quartiles[0.25]\n",
    "cef_upperq = cef_quartiles[0.75]\n",
    "cef_iqr = cef_upperq-cef_lowerq\n",
    "cef_lower_bound = cef_lowerq - (1.5*cef_iqr)\n",
    "cef_upper_bound = cef_upperq + (1.5*cef_iqr)\n",
    "print(f\"Ceficane outlier: {Ceftamin_vol.loc[(Ceftamin_vol <cef_lower_bound) | (Ceftamin_vol > cef_upper_bound)]}\")"
   ]
  },
  {
   "cell_type": "code",
   "execution_count": 9,
   "metadata": {},
   "outputs": [
    {
     "data": {
      "image/png": "[encoded data removed]",
      "text/plain": [
       "<Figure size 432x288 with 1 Axes>"
      ]
     },
     "metadata": {
      "needs_background": "light"
     },
     "output_type": "display_data"
    }
   ],
   "source": [
    "# Generate a box plot of the final tumor volume of each mouse across four regimens of interest\n",
    "data = [Capomulin_vol, Ramicane_vol, Infubinol_vol, Ceftamin_vol]\n",
    "outlier_dict = dict(MarkerFaceColor='red', MarkerSize=10)\n",
    "plt.boxplot(data, labels = [\"Capomulin\",\"Ramicane\",\"Infubinol\",\"Ceftamin\"], flierprops  = outlier_dict )\n",
    "plt.ylabel(\"Final Tumor Volume (mm3)\")\n",
    "plt.title(\"Final Tumor Volume of each mouse across four regimens\\n\")\n",
    "plt.show()"
   ]
  },
  {
   "cell_type": "markdown",
   "metadata": {},
   "source": [
    "## Line and scatter plots"
   ]
  },
  {
   "cell_type": "code",
   "execution_count": 10,
   "metadata": {},
   "outputs": [
    {
     "data": {
      "image/png": "[encoded data removed]",
      "text/plain": [
       "<Figure size 432x288 with 1 Axes>"
      ]
     },
     "metadata": {
      "needs_background": "light"
     },
     "output_type": "display_data"
    }
   ],
   "source": [
    "# Generate a line plot of time point versus tumor volume for a mouse treated with Capomulin\n",
    "mouse_treated = combine_data[(combine_data[\"Drug Regimen\"] == \"Capomulin\") & (combine_data[\"Mouse ID\"] == \"s185\")]\n",
    "plt.plot(mouse_treated[\"Timepoint\"], mouse_treated[\"Tumor Volume (mm3)\"], color=\"blue\", label=\"World Average\" )\n",
    "plt.xlabel(\"s185 Timepoint\")\n",
    "plt.ylabel(\"s185 Tumor Volume (mm3)\")\n",
    "plt.title(\"Timepoint Vs Tumor Volume for Mouse ID s185 \")\n",
    "plt.show()"
   ]
  },
  {
   "cell_type": "code",
   "execution_count": 11,
   "metadata": {},
   "outputs": [
    {
     "data": {
      "image/png": "[encoded data removed]",
      "text/plain": [
       "<Figure size 432x288 with 1 Axes>"
      ]
     },
     "metadata": {
      "needs_background": "light"
     },
     "output_type": "display_data"
    }
   ],
   "source": [
    "# Generate a scatter plot of mouse weight versus average tumor volume for the Capomulin regimen\n",
    "mouse_df = combine_data[(combine_data[\"Drug Regimen\"] == \"Capomulin\")]\n",
    "mouse_df_grp = mouse_df.groupby(\"Mouse ID\").mean()\n",
    "plt.scatter(mouse_df_grp[\"Weight (g)\"], mouse_df_grp[\"Tumor Volume (mm3)\"])\n",
    "plt.xlabel('Mouse Weight in grams')\n",
    "plt.ylabel('Average Tumor Volume (mm3)')\n",
    "plt.title(\"Mouse weight vs Avg Tumor Volume for the Capomulin regimen\\n\")\n",
    "plt.show()"
   ]
  },
  {
   "cell_type": "code",
   "execution_count": 13,
   "metadata": {},
   "outputs": [
    {
     "name": "stdout",
     "output_type": "stream",
     "text": [
      "The correlation between both factors is 0.84\n"
     ]
    },
    {
     "data": {
      "image/png": "[encoded data removed]",
      "text/plain": [
       "<Figure size 432x288 with 1 Axes>"
      ]
     },
     "metadata": {
      "needs_background": "light"
     },
     "output_type": "display_data"
    }
   ],
   "source": [
    "# Calculate the correlation coefficient and linear regression model for mouse weight and average tumor volume\n",
    "#for the Capomulin regimen\n",
    "\n",
    "correlation = st.pearsonr(mouse_df_grp[\"Weight (g)\"], mouse_df_grp[\"Tumor Volume (mm3)\"])\n",
    "print(f\"The correlation between both factors is {round(correlation[0],2)}\")\n",
    "from scipy.stats import linregress\n",
    "x_values = mouse_df_grp[\"Weight (g)\"]\n",
    "y_values = mouse_df_grp[\"Tumor Volume (mm3)\"]\n",
    "(slope, intercept, rvalue, pvalue, stderr) = linregress(x_values, y_values)\n",
    "regress_values = x_values * slope + intercept\n",
    "line_eq = \"y = \" + str(round(slope,2)) + \"x + \" + str(round(intercept,2))\n",
    "plt.scatter(x_values,y_values)\n",
    "plt.plot(x_values,regress_values,\"r-\")\n",
    "plt.annotate(line_eq,(6,10),fontsize=15,color=\"red\")\n",
    "plt.xlabel('Mouse Weight in grams')\n",
    "plt.ylabel('AVerage Tumor Volume (mm3)')\n",
    "plt.title(\"Mouse weight vs Avg Tumor Volume for the Capomulin regimen\\n\")\n",
    "plt.show()"
   ]
  },
  {
   "cell_type": "code",
   "execution_count": null,
   "metadata": {},
   "outputs": [],
   "source": []
  }
 ],
 "metadata": {
  "anaconda-cloud": {},
  "kernelspec": {
   "display_name": "Python 3",
   "language": "python",
   "name": "python3"
  },
  "language_info": {
   "codemirror_mode": {
    "name": "ipython",
    "version": 3
   },
   "file_extension": ".py",
   "mimetype": "text/x-python",
   "name": "python",
   "nbconvert_exporter": "python",
   "pygments_lexer": "ipython3",
   "version": "3.7.4"
  }
 },
 "nbformat": 4,
 "nbformat_minor": 2
}
